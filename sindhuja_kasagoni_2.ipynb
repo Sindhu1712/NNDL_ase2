{
 "cells": [
  {
   "cell_type": "code",
   "execution_count": 1,
   "metadata": {
    "colab": {
     "base_uri": "https://localhost:8080/"
    },
    "id": "ATfaRsvQjTk7",
    "outputId": "91ebc9be-d75f-47a0-ee51-c82e95526f62"
   },
   "outputs": [
    {
     "name": "stdout",
     "output_type": "stream",
     "text": [
      "Enter your first_name here:sindhuja\n",
      "Enter your last_name here:kasagoni\n",
      "sindhuja kasagoni\n",
      "snhj aaoi\n"
     ]
    }
   ],
   "source": [
    "def full_name():\n",
    "    try:\n",
    "        inp_a = str(input(\"Enter your first_name here:\"))\n",
    "        inp_b = str(input(\"Enter your last_name here:\"))\n",
    "        if validate_inp(inp_a) and validate_inp(inp_b):\n",
    "            full_name = inp_a + \" \" + inp_b\n",
    "            print(full_name)\n",
    "            return full_name\n",
    "        else:\n",
    "            print(\"please enter a valid string\")\n",
    "    except Exception as error:\n",
    "        print(\"Error occured {}\".format(error))\n",
    "\n",
    "def validate_inp(input_value):\n",
    "\n",
    "    if input_value != '' and input_value is not None and input_value.isspace() != True and input_value.isnumeric() != True:\n",
    "        return True\n",
    "    else:\n",
    "        return False\n",
    "\n",
    "def string_alternative(full_name):\n",
    "    try:\n",
    "        inp_1 = full_name\n",
    "        print(inp_1[::2])\n",
    "    except Exception as error:\n",
    "        print(\"Error occured {}\".format(error))\n",
    "\n",
    "if __name__ == \"__main__\":\n",
    "    f = full_name()\n",
    "    string_alternative(f)"
   ]
  },
  {
   "cell_type": "code",
   "execution_count": 5,
   "metadata": {
    "id": "dQl5T3q2il4T"
   },
   "outputs": [],
   "source": [
    "with open('input.txt','r') as input_file:\n",
    "        a = dict()\n",
    "        for sentence in input_file:\n",
    "            sentence = sentence.strip()\n",
    "            sentence = sentence.lower()\n",
    "            words = sentence.split(\" \")\n",
    "            for word in words:\n",
    "                if word in a:\n",
    "                    a[word] = a[word] + 1\n",
    "                else:\n",
    "                    a[word] = 1\n",
    "        with open('Output.txt','w') as output_file:\n",
    "            for key in list(a.keys()):\n",
    "                print(key,\":\",a[key],file = output_file)\n"
   ]
  },
  {
   "cell_type": "code",
   "execution_count": 6,
   "metadata": {
    "colab": {
     "base_uri": "https://localhost:8080/"
    },
    "id": "yH6ufLlRo5Mp",
    "outputId": "64337094-9ea2-448b-f456-0d5dc3c529c3"
   },
   "outputs": [
    {
     "name": "stdout",
     "output_type": "stream",
     "text": [
      "Enter heights of customers(inches) (press q to quit):150\n",
      "Enter heights of customers(inches) (press q to quit):155\n",
      "Enter heights of customers(inches) (press q to quit):145\n",
      "Enter heights of customers(inches) (press q to quit):148\n",
      "Enter heights of customers(inches) (press q to quit):q\n",
      "L1:  ['150', '155', '145', '148']\n",
      "Output:  [381.0, 393.7, 368.3, 375.92]\n"
     ]
    }
   ],
   "source": [
    "heights_list = []\n",
    "heights_in_cm = []\n",
    "while True:\n",
    "    inp_1 = input(\"Enter heights of customers(inches) (press q to quit):\")\n",
    "    if inp_1 == 'q':\n",
    "        break\n",
    "    else:\n",
    "        heights_list.append(inp_1)\n",
    "\n",
    "print(\"L1: \",heights_list)\n",
    "heights_in_cm = [int(height) * 2.54 for height in heights_list]\n",
    "print(\"Output: \", heights_in_cm)"
   ]
  },
  {
   "cell_type": "code",
   "execution_count": null,
   "metadata": {},
   "outputs": [],
   "source": []
  }
 ],
 "metadata": {
  "colab": {
   "provenance": []
  },
  "kernelspec": {
   "display_name": "Python 3 (ipykernel)",
   "language": "python",
   "name": "python3"
  },
  "language_info": {
   "codemirror_mode": {
    "name": "ipython",
    "version": 3
   },
   "file_extension": ".py",
   "mimetype": "text/x-python",
   "name": "python",
   "nbconvert_exporter": "python",
   "pygments_lexer": "ipython3",
   "version": "3.9.12"
  }
 },
 "nbformat": 4,
 "nbformat_minor": 1
}
